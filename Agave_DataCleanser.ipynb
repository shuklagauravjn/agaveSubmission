{
  "nbformat": 4,
  "nbformat_minor": 0,
  "metadata": {
    "colab": {
      "provenance": [],
      "toc_visible": true
    },
    "kernelspec": {
      "name": "python3",
      "display_name": "Python 3"
    },
    "language_info": {
      "name": "python"
    }
  },
  "cells": [
    {
      "cell_type": "code",
      "source": [
        "import pandas as pd\n",
        "\n",
        "# Replace 'your_file.csv' with the actual path to your CSV file\n",
        "file_path = 'USA_Housing.csv'\n",
        "\n",
        "# Load data into a pandas DataFrame\n",
        "data = pd.read_csv(file_path)\n",
        "null_values = data.isnull().sum()\n",
        "\n",
        "# Display the count of null values for each column\n",
        "print(\"Null values in each column:\")\n",
        "print(null_values)\n",
        "\n",
        "import numpy as np\n",
        "\n",
        "import math\n",
        "# Replace 'column_name' with the actual column name for which you want to calculate the ceiling\n",
        "\n",
        "\n",
        "# Apply lambda function to calculate ceiling for the specified column\n",
        "data['Price'] = data['Price'].apply(lambda x: math.ceil(x))\n",
        "\n",
        "# Display the DataFrame with the new column\n",
        "#print(data.head())\n",
        "\n",
        "# List of columns for which you want to calculate the floor\n",
        "floor_column_name = ['Avg. Area Income','Avg. Area House Age','Avg. Area Number of Rooms','Avg. Area Number of Bedrooms','Area Population']\n",
        "\n",
        "# Apply floor function to all specified columns using applymap\n",
        "data[floor_column_name] = data[floor_column_name].applymap(lambda x: math.floor(x))\n",
        "# Display the DataFrame with the new column\n",
        "print(data.head())\n",
        "\n",
        "output_file_path = 'Cleansed_USA_Housing.csv'\n",
        "data.to_csv(output_file_path, index=False)\n"
      ],
      "metadata": {
        "colab": {
          "base_uri": "https://localhost:8080/"
        },
        "id": "d6qyykrA9CID",
        "outputId": "a250bc7d-e9dd-4259-9748-c2b2bc189f66"
      },
      "execution_count": 1,
      "outputs": [
        {
          "output_type": "stream",
          "name": "stdout",
          "text": [
            "Null values in each column:\n",
            "Avg. Area Income                0\n",
            "Avg. Area House Age             0\n",
            "Avg. Area Number of Rooms       0\n",
            "Avg. Area Number of Bedrooms    0\n",
            "Area Population                 0\n",
            "Price                           0\n",
            "Address                         0\n",
            "dtype: int64\n",
            "   Avg. Area Income  Avg. Area House Age  Avg. Area Number of Rooms  \\\n",
            "0             79545                    5                          7   \n",
            "1             79248                    6                          6   \n",
            "2             61287                    5                          8   \n",
            "3             63345                    7                          5   \n",
            "4             59982                    5                          7   \n",
            "\n",
            "   Avg. Area Number of Bedrooms  Area Population    Price  \\\n",
            "0                             4            23086  1059034   \n",
            "1                             3            40173  1505891   \n",
            "2                             5            36882  1058988   \n",
            "3                             3            34310  1260617   \n",
            "4                             4            26354   630944   \n",
            "\n",
            "                                             Address  \n",
            "0  208 Michael Ferry Apt. 674\\nLaurabury, NE 3701...  \n",
            "1  188 Johnson Views Suite 079\\nLake Kathleen, CA...  \n",
            "2  9127 Elizabeth Stravenue\\nDanieltown, WI 06482...  \n",
            "3                          USS Barnett\\nFPO AP 44820  \n",
            "4                         USNS Raymond\\nFPO AE 09386  \n"
          ]
        }
      ]
    },
    {
      "cell_type": "code",
      "source": [],
      "metadata": {
        "id": "g_IHJiOm4u-C"
      },
      "execution_count": 3,
      "outputs": []
    },
    {
      "cell_type": "markdown",
      "source": [
        "# New Section"
      ],
      "metadata": {
        "id": "6euN7bkv2NiU"
      }
    }
  ]
}